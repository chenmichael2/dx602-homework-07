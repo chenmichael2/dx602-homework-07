{
  "cells": [
    {
      "cell_type": "markdown",
      "metadata": {
        "id": "77QuD1sxaGQ8"
      },
      "source": [
        "# DX 602 Week 7 Homework\n",
        "\n"
      ]
    },
    {
      "cell_type": "markdown",
      "metadata": {
        "id": "CjGG1RQ0KUYM"
      },
      "source": [
        "## Introduction\n",
        "\n",
        "In this homework, you will continue practicing the NumPy library to work with numbers in various ways.\n",
        "There will be a particular focus on views, but you will also be asked to find and recognize relevant NumPy functions on your own.\n",
        "NumPy is a large library with a lot of different functionality.\n",
        "It is impractical to introduce each function individually, yet you will be able to make use of most of its functionality with a basic exercise of search skills.\n"
      ]
    },
    {
      "cell_type": "markdown",
      "metadata": {},
      "source": [
        "## Example Code\n",
        "\n",
        "You may find it helpful to refer to this GitHub repository of Jupyter notebooks for example code.\n",
        "\n",
        "* https://github.com/bu-cds-omds/dx602-examples\n",
        "\n",
        "Any calculations demonstrated in code examples or videos may be found in these notebooks, and you are allowed to copy this example code in your homework answers."
      ]
    },
    {
      "cell_type": "markdown",
      "metadata": {},
      "source": [
        "## Shared Imports\n",
        "\n",
        "Do not install or use any additional modules.\n",
        "Installing additional modules may result in an autograder failure resulting in zero points for some or all problems."
      ]
    },
    {
      "cell_type": "code",
      "execution_count": 1,
      "metadata": {},
      "outputs": [],
      "source": [
        "import math\n",
        "import sys"
      ]
    },
    {
      "cell_type": "code",
      "execution_count": 2,
      "metadata": {},
      "outputs": [],
      "source": [
        "import matplotlib.pyplot as plt\n",
        "import numpy as np"
      ]
    },
    {
      "cell_type": "markdown",
      "metadata": {
        "id": "omut0-N1aEVB"
      },
      "source": [
        "## Problems"
      ]
    },
    {
      "cell_type": "markdown",
      "metadata": {},
      "source": [
        "### Problem 1\n",
        "\n",
        "Set `p1` to be `q1` flipped upside down."
      ]
    },
    {
      "cell_type": "code",
      "execution_count": 3,
      "metadata": {},
      "outputs": [],
      "source": [
        "# DO NOT CHANGE\n",
        "\n",
        "q1 = np.array([[9, 1, 6], [2, 6, 3], [5, 0, 7]])"
      ]
    },
    {
      "cell_type": "code",
      "execution_count": 16,
      "metadata": {},
      "outputs": [],
      "source": [
        "# YOUR CHANGES HERE\n",
        "\n",
        "p1 = np.flipud(q1)"
      ]
    },
    {
      "cell_type": "code",
      "execution_count": 17,
      "metadata": {},
      "outputs": [
        {
          "data": {
            "text/plain": [
              "array([[5, 0, 7],\n",
              "       [2, 6, 3],\n",
              "       [9, 1, 6]])"
            ]
          },
          "execution_count": 17,
          "metadata": {},
          "output_type": "execute_result"
        }
      ],
      "source": [
        "p1"
      ]
    },
    {
      "cell_type": "markdown",
      "metadata": {},
      "source": [
        "### Problem 2\n",
        "\n",
        "Set `p2` to be the average value of `q2`."
      ]
    },
    {
      "cell_type": "code",
      "execution_count": 18,
      "metadata": {},
      "outputs": [
        {
          "data": {
            "text/plain": [
              "array([[ 1.2710684 ,  0.34651747,  0.68960684, -1.12567075, -0.06412985,\n",
              "         0.13373547,  0.84314528,  0.35206589],\n",
              "       [-1.18745615,  0.50656175,  0.66699453,  0.72676468, -0.34165581,\n",
              "        -1.00205835,  0.02101389,  0.93188219],\n",
              "       [ 0.23127874, -0.32878023, -0.97939304,  0.01044438, -0.81895036,\n",
              "        -0.44674951,  0.87667202, -1.51737553],\n",
              "       [ 2.07266937, -1.63841334, -0.20043649,  1.01993301, -1.21509526,\n",
              "        -0.15027553,  0.39621876,  0.28836095],\n",
              "       [-0.83933974,  1.64994802, -0.1213623 ,  0.25179499,  1.0813766 ,\n",
              "         0.48275638, -1.41171727, -0.72633164],\n",
              "       [-0.38257196,  0.12212784,  0.73860358, -1.61096579, -0.38644903,\n",
              "         0.30642748,  0.92550333, -2.20470762],\n",
              "       [ 0.32864359,  0.8622356 ,  1.99156784,  0.2118577 , -0.58876625,\n",
              "        -1.01185141,  0.83046577, -0.48243025],\n",
              "       [ 0.31960012,  0.60696688,  0.68950522, -0.80539561, -1.04918003,\n",
              "         0.2794904 , -0.09944267,  0.31027322]])"
            ]
          },
          "execution_count": 18,
          "metadata": {},
          "output_type": "execute_result"
        }
      ],
      "source": [
        "# DO NOT CHANGE\n",
        "\n",
        "q2 = np.array([[ 1.2710684 ,  0.34651747,  0.68960684, -1.12567075, -0.06412985,\n",
        "         0.13373547,  0.84314528,  0.35206589],\n",
        "       [-1.18745615,  0.50656175,  0.66699453,  0.72676468, -0.34165581,\n",
        "        -1.00205835,  0.02101389,  0.93188219],\n",
        "       [ 0.23127874, -0.32878023, -0.97939304,  0.01044438, -0.81895036,\n",
        "        -0.44674951,  0.87667202, -1.51737553],\n",
        "       [ 2.07266937, -1.63841334, -0.20043649,  1.01993301, -1.21509526,\n",
        "        -0.15027553,  0.39621876,  0.28836095],\n",
        "       [-0.83933974,  1.64994802, -0.1213623 ,  0.25179499,  1.0813766 ,\n",
        "         0.48275638, -1.41171727, -0.72633164],\n",
        "       [-0.38257196,  0.12212784,  0.73860358, -1.61096579, -0.38644903,\n",
        "         0.30642748,  0.92550333, -2.20470762],\n",
        "       [ 0.32864359,  0.8622356 ,  1.99156784,  0.2118577 , -0.58876625,\n",
        "        -1.01185141,  0.83046577, -0.48243025],\n",
        "       [ 0.31960012,  0.60696688,  0.68950522, -0.80539561, -1.04918003,\n",
        "         0.2794904 , -0.09944267,  0.31027322]])\n",
        "q2"
      ]
    },
    {
      "cell_type": "code",
      "execution_count": 19,
      "metadata": {},
      "outputs": [],
      "source": [
        "p2 = np.mean(q2)"
      ]
    },
    {
      "cell_type": "code",
      "execution_count": 20,
      "metadata": {},
      "outputs": [
        {
          "data": {
            "text/plain": [
              "np.float64(0.009955100156249994)"
            ]
          },
          "execution_count": 20,
          "metadata": {},
          "output_type": "execute_result"
        }
      ],
      "source": [
        "p2"
      ]
    },
    {
      "cell_type": "markdown",
      "metadata": {
        "id": "FigRYhR_agfC"
      },
      "source": [
        "### Problem 3\n",
        "\n",
        "Write a function `p3` that takes in a 2-dimensional array and returns an array with the even columns of the input array.\n"
      ]
    },
    {
      "cell_type": "code",
      "execution_count": 23,
      "metadata": {
        "id": "sP7nAQIyaiA0"
      },
      "outputs": [],
      "source": [
        "# YOUR CHANGES HERE\n",
        "\n",
        "def p3(x):\n",
        "    return x[:, ::2]"
      ]
    },
    {
      "cell_type": "code",
      "execution_count": 24,
      "metadata": {},
      "outputs": [
        {
          "data": {
            "text/plain": [
              "array([[0, 2, 4]])"
            ]
          },
          "execution_count": 24,
          "metadata": {},
          "output_type": "execute_result"
        }
      ],
      "source": [
        "# the output should have values [[0, 2, 4]]\n",
        "p3(np.array([[0, 1, 2, 3, 4]]))"
      ]
    },
    {
      "cell_type": "code",
      "execution_count": 25,
      "metadata": {},
      "outputs": [
        {
          "data": {
            "text/plain": [
              "array([[0, 2, 4],\n",
              "       [5, 7, 9]])"
            ]
          },
          "execution_count": 25,
          "metadata": {},
          "output_type": "execute_result"
        }
      ],
      "source": [
        "p3(np.array([[0, 1, 2, 3, 4], [5, 6, 7, 8, 9]]))"
      ]
    },
    {
      "cell_type": "markdown",
      "metadata": {
        "id": "hlMy5gDWajlh"
      },
      "source": [
        "### Problem 4\n",
        "\n",
        "Write a function `p4` taking in a 2-dimensional array, and returning a 1-dimensional array with every 5th element of a row-order traversal of the input, starting from the 3rd element."
      ]
    },
    {
      "cell_type": "code",
      "execution_count": 29,
      "metadata": {
        "id": "_PPKpb2Damy_"
      },
      "outputs": [],
      "source": [
        "# YOUR CHANGES HERE\n",
        "\n",
        "def p4(x):\n",
        "    rav = np.ravel(x)\n",
        "    return rav[2::5]"
      ]
    },
    {
      "cell_type": "code",
      "execution_count": 30,
      "metadata": {},
      "outputs": [
        {
          "data": {
            "text/plain": [
              "array([[ 0,  1,  2,  3],\n",
              "       [ 4,  5,  6,  7],\n",
              "       [ 8,  9, 10, 11],\n",
              "       [12, 13, 14, 15]])"
            ]
          },
          "execution_count": 30,
          "metadata": {},
          "output_type": "execute_result"
        }
      ],
      "source": [
        "x4 = np.array([[0, 1, 2, 3], [4, 5, 6, 7], [8, 9, 10, 11], [12, 13, 14, 15]])\n",
        "x4"
      ]
    },
    {
      "cell_type": "code",
      "execution_count": 31,
      "metadata": {},
      "outputs": [
        {
          "data": {
            "text/plain": [
              "array([ 2,  7, 12])"
            ]
          },
          "execution_count": 31,
          "metadata": {},
          "output_type": "execute_result"
        }
      ],
      "source": [
        "# this should return a 1-dimensional array with contents [2, 7, 12]\n",
        "\n",
        "p4(x4)"
      ]
    },
    {
      "cell_type": "markdown",
      "metadata": {
        "id": "9Wl_6b7sasyk"
      },
      "source": [
        "### Problem 5\n",
        "\n",
        "What NumPy function evaluates the Einstein summation convention?\n",
        "Set `p5` to be a reference to that function.\n",
        "You can look for this function by using NumPy site documentation and search, or other search engines."
      ]
    },
    {
      "cell_type": "code",
      "execution_count": 34,
      "metadata": {
        "id": "mTG8Edklazov"
      },
      "outputs": [],
      "source": [
        "# YOUR CHANGES HERE\n",
        "\n",
        "p5 = np.einsum"
      ]
    },
    {
      "cell_type": "code",
      "execution_count": 35,
      "metadata": {},
      "outputs": [
        {
          "data": {
            "text/plain": [
              "<function einsum at 0x109c3fbf0>"
            ]
          },
          "execution_count": 35,
          "metadata": {},
          "output_type": "execute_result"
        }
      ],
      "source": [
        "p5"
      ]
    },
    {
      "cell_type": "markdown",
      "metadata": {
        "id": "Uv3aC8Ara0vY"
      },
      "source": [
        "### Problem 6\n",
        "\n",
        "Write a function `p6` that takes in two inputs, a function and an array, and returns `True` if calling that function with the array as input returns a view of that array and `False` otherwise."
      ]
    },
    {
      "cell_type": "code",
      "execution_count": 39,
      "metadata": {
        "id": "DEBqqZt8a7Ar"
      },
      "outputs": [],
      "source": [
        "# YOUR CHANGES HERE\n",
        "\n",
        "def p6(f, x):\n",
        "    result = f(x)\n",
        "    return result.base is x"
      ]
    },
    {
      "cell_type": "code",
      "execution_count": 40,
      "metadata": {},
      "outputs": [
        {
          "data": {
            "text/plain": [
              "False"
            ]
          },
          "execution_count": 40,
          "metadata": {},
          "output_type": "execute_result"
        }
      ],
      "source": [
        "p6(np.sum, np.arange(20))"
      ]
    },
    {
      "cell_type": "code",
      "execution_count": 41,
      "metadata": {},
      "outputs": [
        {
          "data": {
            "text/plain": [
              "True"
            ]
          },
          "execution_count": 41,
          "metadata": {},
          "output_type": "execute_result"
        }
      ],
      "source": [
        "p6(np.fliplr, np.zeros((3, 4)))"
      ]
    },
    {
      "cell_type": "markdown",
      "metadata": {
        "id": "1ZXEEmuTa-2X"
      },
      "source": [
        "### Problem 7\n",
        "\n",
        "Write a function `p7` that takes in an array, and if it is a view, returns a number indicating the proportion of the original array that is seen through the view, and returns `None` if the array is not a view.\n",
        "If the input is an array of 10 elements, and it is a view of an array of 20 elements, your function should return 0.5.\n"
      ]
    },
    {
      "cell_type": "code",
      "execution_count": 48,
      "metadata": {
        "id": "NjgTz5ffbGcG"
      },
      "outputs": [],
      "source": [
        "# YOUR CHANGES HERE\n",
        "\n",
        "def p7(x):\n",
        "    return None if x.base is None else len(x) / len(x.base)"
      ]
    },
    {
      "cell_type": "code",
      "execution_count": 49,
      "metadata": {},
      "outputs": [
        {
          "data": {
            "text/plain": [
              "0.5"
            ]
          },
          "execution_count": 49,
          "metadata": {},
          "output_type": "execute_result"
        }
      ],
      "source": [
        "# a view\n",
        "\n",
        "t7a = np.arange(20)\n",
        "t7b = t7a[::2]\n",
        "p7(t7b)"
      ]
    },
    {
      "cell_type": "code",
      "execution_count": 50,
      "metadata": {},
      "outputs": [],
      "source": [
        "# not a view\n",
        "\n",
        "p7(np.arange(20))"
      ]
    },
    {
      "cell_type": "markdown",
      "metadata": {
        "id": "lB03Y4mjbI17"
      },
      "source": [
        "### Problem 8\n",
        "\n",
        "Write a function `p8` that returns the diagonal of an input 2-dimensional array. The diagonal of an array $x$ is the elements $x[0][0], x[1][1], x[2][2], \\ldots$.\n"
      ]
    },
    {
      "cell_type": "code",
      "execution_count": 51,
      "metadata": {
        "id": "6KZ5c-xEbRbb"
      },
      "outputs": [],
      "source": [
        "# YOUR CHANGES HERE\n",
        "\n",
        "def p8(x):\n",
        "    return np.array([x[i][i] for i in range(len(x[0]))])"
      ]
    },
    {
      "cell_type": "code",
      "execution_count": 52,
      "metadata": {},
      "outputs": [
        {
          "data": {
            "text/plain": [
              "array([1, 5, 9])"
            ]
          },
          "execution_count": 52,
          "metadata": {},
          "output_type": "execute_result"
        }
      ],
      "source": [
        "p8(np.array([[1, 2, 3], [4, 5, 6], [7, 8, 9]]))"
      ]
    },
    {
      "cell_type": "markdown",
      "metadata": {
        "id": "gYLD2VQzbTDO"
      },
      "source": [
        "### Problem 9\n",
        "\n",
        "Write a function `p9` that returns a view of the diagonal of an input 2-dimensional array but it must return a view of the original array. (If your previous answer already returned a view, you may reuse it.)"
      ]
    },
    {
      "cell_type": "code",
      "execution_count": 59,
      "metadata": {
        "id": "Srm6NfFabYUL"
      },
      "outputs": [],
      "source": [
        "# YOUR CHANGES HERE\n",
        "\n",
        "def p9(x):\n",
        "    return x.diagonal()"
      ]
    },
    {
      "cell_type": "code",
      "execution_count": 57,
      "metadata": {},
      "outputs": [],
      "source": [
        "x9 = np.array([[0, 1, 2], [3, 4, 5], [6, 7, 8]])"
      ]
    },
    {
      "cell_type": "code",
      "execution_count": 60,
      "metadata": {},
      "outputs": [
        {
          "data": {
            "text/plain": [
              "array([0, 4, 8])"
            ]
          },
          "execution_count": 60,
          "metadata": {},
          "output_type": "execute_result"
        }
      ],
      "source": [
        "p9(x9)"
      ]
    },
    {
      "cell_type": "code",
      "execution_count": 61,
      "metadata": {},
      "outputs": [
        {
          "data": {
            "text/plain": [
              "True"
            ]
          },
          "execution_count": 61,
          "metadata": {},
          "output_type": "execute_result"
        }
      ],
      "source": [
        "# uncomment to test after you finish p9\n",
        "\n",
        "p9(x9).base is x9"
      ]
    },
    {
      "cell_type": "markdown",
      "metadata": {},
      "source": [
        "### Problem 10\n",
        "\n",
        "The [$X + Y$ sorting problem](https://en.wikipedia.org/wiki/X_%2B_Y_sorting) considers the problem of sorting pairs of numbers from two lists of numbers, $X$ and $Y$, by their sums.\n",
        "Write a function `p10` that takes in two 1-dimensional arrays, $x$ and $y$, and returns a two dimensional array $z$ such that $z[i,j] = x[i] + y[j]$."
      ]
    },
    {
      "cell_type": "markdown",
      "metadata": {},
      "source": [
        "Hint: use broadcasting."
      ]
    },
    {
      "cell_type": "code",
      "execution_count": 66,
      "metadata": {},
      "outputs": [],
      "source": [
        "# YOUR CHANGES HERE\n",
        "\n",
        "def p10(x, y):\n",
        "    return x[:, None] + y"
      ]
    },
    {
      "cell_type": "code",
      "execution_count": 67,
      "metadata": {},
      "outputs": [
        {
          "data": {
            "text/plain": [
              "array([[11, 12, 13, 14, 15],\n",
              "       [21, 22, 23, 24, 25],\n",
              "       [31, 32, 33, 34, 35]])"
            ]
          },
          "execution_count": 67,
          "metadata": {},
          "output_type": "execute_result"
        }
      ],
      "source": [
        "p10(np.array([10, 20, 30]), np.array([1, 2, 3, 4, 5]))"
      ]
    },
    {
      "cell_type": "markdown",
      "metadata": {
        "id": "wTqFGHnxaFn2"
      },
      "source": [
        "### Problem 11\n",
        "\n",
        "Write a function `p11` taking an $n \\times k$ array and returns an $n \\times 3$ array where the first column is the minimum value of the input rows, the second column is the median of the input rows, and the third column is the maximum values of the input rows.\n"
      ]
    },
    {
      "cell_type": "markdown",
      "metadata": {
        "id": "PCLV0oz-aJ4d"
      },
      "source": [
        "Hint: there was a similar problem in week 6, but you will need `numpy.reshape` and `numpy.hstack` to adapt those results.\n"
      ]
    },
    {
      "cell_type": "code",
      "execution_count": 68,
      "metadata": {
        "id": "5yWtvBoQaLHF"
      },
      "outputs": [],
      "source": [
        "def p11(x):\n",
        "    mins = np.min(x, axis=1)\n",
        "    meds = np.median(x, axis=1)\n",
        "    maxs = np.max(x, axis=1)\n",
        "    return np.stack((mins, meds, maxs), axis=1)"
      ]
    },
    {
      "cell_type": "code",
      "execution_count": 69,
      "metadata": {},
      "outputs": [
        {
          "data": {
            "text/plain": [
              "array([[ 0.,  2.,  4.],\n",
              "       [ 5.,  7.,  9.],\n",
              "       [10., 12., 14.]])"
            ]
          },
          "execution_count": 69,
          "metadata": {},
          "output_type": "execute_result"
        }
      ],
      "source": [
        "p11(np.array([[0, 1, 2, 3, 4],\n",
        "              [5, 6, 7, 8, 9],\n",
        "              [10, 11, 12, 13, 14]]))"
      ]
    },
    {
      "cell_type": "markdown",
      "metadata": {},
      "source": [
        "### Problem 12\n",
        "\n",
        "What does the following code do?\n",
        "\n",
        "```\n",
        "def f12(vs):\n",
        "    return [v for (i, v) in enumerate(vs) if i >= 5]\n",
        "\n",
        "def g12(n):\n",
        "    for i in range(n):\n",
        "        yield i ** 2\n",
        "\n",
        "print(f12(g12(10)))\n",
        "```\n",
        "\n",
        "Set `p12` to the printed output."
      ]
    },
    {
      "cell_type": "code",
      "execution_count": 71,
      "metadata": {},
      "outputs": [],
      "source": [
        "# YOUR CHANGES HERE\n",
        "\n",
        "p12 = [v for (i, v) in enumerate([i** 2 for i in range(10)]) if i >=5]"
      ]
    },
    {
      "cell_type": "code",
      "execution_count": 72,
      "metadata": {},
      "outputs": [
        {
          "data": {
            "text/plain": [
              "[25, 36, 49, 64, 81]"
            ]
          },
          "execution_count": 72,
          "metadata": {},
          "output_type": "execute_result"
        }
      ],
      "source": [
        "p12"
      ]
    },
    {
      "cell_type": "markdown",
      "metadata": {},
      "source": [
        "### Problem 13\n",
        "\n",
        "The following code is supposed to iterate the Collatz function until it reaches the value 1, but does not have the correct control flow.\n",
        "Modify the loop below so that it continues until the last entry of `p13` is one."
      ]
    },
    {
      "cell_type": "code",
      "execution_count": 74,
      "metadata": {},
      "outputs": [],
      "source": [
        "# DO NOT CHANGE\n",
        "\n",
        "def f13(x):\n",
        "    if x % 2 == 0:\n",
        "        # even case\n",
        "        return x // 2\n",
        "    else:\n",
        "        return 3 * x + 1"
      ]
    },
    {
      "cell_type": "code",
      "execution_count": 75,
      "metadata": {},
      "outputs": [],
      "source": [
        "# DO NOT CHANGE\n",
        "\n",
        "p13 = [27]"
      ]
    },
    {
      "cell_type": "code",
      "execution_count": 82,
      "metadata": {},
      "outputs": [],
      "source": [
        "# YOUR CHANGES HERE\n",
        "\n",
        "while f13(p13[-1]) != 1:\n",
        "    # apply f13() to the last entry of p13.\n",
        "        p13.append(f13(p13[-1]))\n",
        "p13.append(1)"
      ]
    },
    {
      "cell_type": "code",
      "execution_count": 83,
      "metadata": {},
      "outputs": [
        {
          "data": {
            "text/plain": [
              "[27,\n",
              " 82,\n",
              " 41,\n",
              " 124,\n",
              " 62,\n",
              " 31,\n",
              " 94,\n",
              " 47,\n",
              " 142,\n",
              " 71,\n",
              " 214,\n",
              " 107,\n",
              " 322,\n",
              " 161,\n",
              " 484,\n",
              " 242,\n",
              " 121,\n",
              " 364,\n",
              " 182,\n",
              " 91,\n",
              " 274,\n",
              " 137,\n",
              " 412,\n",
              " 206,\n",
              " 103,\n",
              " 310,\n",
              " 155,\n",
              " 466,\n",
              " 233,\n",
              " 700,\n",
              " 350,\n",
              " 175,\n",
              " 526,\n",
              " 263,\n",
              " 790,\n",
              " 395,\n",
              " 1186,\n",
              " 593,\n",
              " 1780,\n",
              " 890,\n",
              " 445,\n",
              " 1336,\n",
              " 668,\n",
              " 334,\n",
              " 167,\n",
              " 502,\n",
              " 251,\n",
              " 754,\n",
              " 377,\n",
              " 1132,\n",
              " 566,\n",
              " 283,\n",
              " 850,\n",
              " 425,\n",
              " 1276,\n",
              " 638,\n",
              " 319,\n",
              " 958,\n",
              " 479,\n",
              " 1438,\n",
              " 719,\n",
              " 2158,\n",
              " 1079,\n",
              " 3238,\n",
              " 1619,\n",
              " 4858,\n",
              " 2429,\n",
              " 7288,\n",
              " 3644,\n",
              " 1822,\n",
              " 911,\n",
              " 2734,\n",
              " 1367,\n",
              " 4102,\n",
              " 2051,\n",
              " 6154,\n",
              " 3077,\n",
              " 9232,\n",
              " 4616,\n",
              " 2308,\n",
              " 1154,\n",
              " 577,\n",
              " 1732,\n",
              " 866,\n",
              " 433,\n",
              " 1300,\n",
              " 650,\n",
              " 325,\n",
              " 976,\n",
              " 488,\n",
              " 244,\n",
              " 122,\n",
              " 61,\n",
              " 184,\n",
              " 92,\n",
              " 46,\n",
              " 23,\n",
              " 70,\n",
              " 35,\n",
              " 106,\n",
              " 53,\n",
              " 160,\n",
              " 80,\n",
              " 40,\n",
              " 20,\n",
              " 10,\n",
              " 5,\n",
              " 16,\n",
              " 8,\n",
              " 4,\n",
              " 2,\n",
              " 1]"
            ]
          },
          "execution_count": 83,
          "metadata": {},
          "output_type": "execute_result"
        }
      ],
      "source": [
        "p13"
      ]
    },
    {
      "cell_type": "markdown",
      "metadata": {},
      "source": [
        "### Problem 14\n",
        "\n",
        "Set `p14` to be the shape tuple of the variable `q14` at the end of the following code.\n",
        "\n",
        "```\n",
        "q14 = np.arange(24)\n",
        "q14 = q14.reshape(3, -1)\n",
        "q14 = q14[:,::3]\n",
        "```"
      ]
    },
    {
      "cell_type": "code",
      "execution_count": 90,
      "metadata": {},
      "outputs": [
        {
          "data": {
            "text/plain": [
              "array([[ 0,  3,  6],\n",
              "       [ 8, 11, 14],\n",
              "       [16, 19, 22]])"
            ]
          },
          "execution_count": 90,
          "metadata": {},
          "output_type": "execute_result"
        }
      ],
      "source": [
        "# YOUR CHANGES HERE\n",
        "q14 = np.arange(24).reshape(3, -1)[:, ::3]\n",
        "\n",
        "p14 = q14.shape\n",
        "q14"
      ]
    },
    {
      "cell_type": "code",
      "execution_count": 91,
      "metadata": {},
      "outputs": [
        {
          "data": {
            "text/plain": [
              "(3, 3)"
            ]
          },
          "execution_count": 91,
          "metadata": {},
          "output_type": "execute_result"
        }
      ],
      "source": [
        "p14"
      ]
    },
    {
      "cell_type": "markdown",
      "metadata": {},
      "source": [
        "### Problem 15\n",
        "\n",
        "The array `q15` below was filled with a sample of random numbers.\n",
        "The variable `p15` is a reference to the same array.\n",
        "Change the contents of `p15` so that the first row is all zeros.\n",
        "After your change to `p15`, the variables `p15` and `q15` should still be the same array."
      ]
    },
    {
      "cell_type": "markdown",
      "metadata": {},
      "source": [
        "Hint: use row indexing to easily overwrite just one row of `p15`."
      ]
    },
    {
      "cell_type": "code",
      "execution_count": null,
      "metadata": {},
      "outputs": [
        {
          "data": {
            "text/plain": [
              "array([[ 1.76435665, -0.66892705, -1.08485379, -0.51982851,  1.2362559 ],\n",
              "       [ 0.15524724, -0.78679294, -0.9343088 ,  2.78526049,  0.19342893],\n",
              "       [ 0.76716362,  2.91044894, -0.80492143, -1.63290739, -0.50503081],\n",
              "       [ 0.09743684,  0.11846846,  1.0413396 ,  0.85669315,  0.30437891],\n",
              "       [ 0.56113285, -1.02444355, -1.57142929,  0.251055  , -1.09196046]])"
            ]
          },
          "execution_count": 93,
          "metadata": {},
          "output_type": "execute_result"
        }
      ],
      "source": [
        "# DO NOT CHANGE\n",
        "\n",
        "q15 = np.array([[ 1.76435665, -0.66892705, -1.08485379, -0.51982851,  1.2362559 ],\n",
        "       [ 0.15524724, -0.78679294, -0.9343088 ,  2.78526049,  0.19342893],\n",
        "       [ 0.76716362,  2.91044894, -0.80492143, -1.63290739, -0.50503081],\n",
        "       [ 0.09743684,  0.11846846,  1.0413396 ,  0.85669315,  0.30437891],\n",
        "       [ 0.56113285, -1.02444355, -1.57142929,  0.251055  , -1.09196046]])\n",
        "p15 = q15\n",
        "p15"
      ]
    },
    {
      "cell_type": "code",
      "execution_count": 94,
      "metadata": {},
      "outputs": [],
      "source": [
        "# YOUR CHANGES HERE\n",
        "\n",
        "p15[0] = np.zeros(len(p15[0]))"
      ]
    },
    {
      "cell_type": "code",
      "execution_count": 95,
      "metadata": {},
      "outputs": [
        {
          "data": {
            "text/plain": [
              "array([[ 0.        ,  0.        ,  0.        ,  0.        ,  0.        ],\n",
              "       [ 0.15524724, -0.78679294, -0.9343088 ,  2.78526049,  0.19342893],\n",
              "       [ 0.76716362,  2.91044894, -0.80492143, -1.63290739, -0.50503081],\n",
              "       [ 0.09743684,  0.11846846,  1.0413396 ,  0.85669315,  0.30437891],\n",
              "       [ 0.56113285, -1.02444355, -1.57142929,  0.251055  , -1.09196046]])"
            ]
          },
          "execution_count": 95,
          "metadata": {},
          "output_type": "execute_result"
        }
      ],
      "source": [
        "p15"
      ]
    },
    {
      "cell_type": "code",
      "execution_count": 96,
      "metadata": {},
      "outputs": [
        {
          "data": {
            "text/plain": [
              "True"
            ]
          },
          "execution_count": 96,
          "metadata": {},
          "output_type": "execute_result"
        }
      ],
      "source": [
        "# confirm that p15 is still the same array\n",
        "id(p15) == id(q15)"
      ]
    },
    {
      "cell_type": "markdown",
      "metadata": {},
      "source": [
        "### Problem 16\n",
        "\n",
        "Write a function `p16` that takes in numbers of rows and columns and a value, and uses `np.broadcast_to` to make a 2-dimensional array of the specified size that appears to have the specified dimensions and each has the given value.\n",
        "This will be similar to the output of `np.full`, except the resulting array will be read-only because of the broadcast usage."
      ]
    },
    {
      "cell_type": "code",
      "execution_count": 97,
      "metadata": {},
      "outputs": [],
      "source": [
        "# YOUR CHANGES HERE\n",
        "\n",
        "def p16(rows, columns, value):\n",
        "    return np.broadcast_to(value, (rows, columns))"
      ]
    },
    {
      "cell_type": "code",
      "execution_count": 98,
      "metadata": {},
      "outputs": [
        {
          "data": {
            "text/plain": [
              "array([[5, 5, 5, 5],\n",
              "       [5, 5, 5, 5],\n",
              "       [5, 5, 5, 5]])"
            ]
          },
          "execution_count": 98,
          "metadata": {},
          "output_type": "execute_result"
        }
      ],
      "source": [
        "t16 = p16(3, 4, 5)\n",
        "t16"
      ]
    },
    {
      "cell_type": "markdown",
      "metadata": {},
      "source": [
        "### Problem 17\n",
        "\n",
        "Set `p17` to the contents of `q17` after running the following code.\n",
        "\n",
        "```\n",
        "q17 = np.arange(16)\n",
        "q17 = q17.reshape(-1, 4)\n",
        "q17 = np.flipud(q17)\n",
        "q17 = np.fliplr(q17)\n",
        "```"
      ]
    },
    {
      "cell_type": "code",
      "execution_count": 106,
      "metadata": {},
      "outputs": [],
      "source": [
        "# YOUR CHANGES HERE\n",
        "q17 = np.arange(16)\n",
        "q17 = q17.reshape(-1, 4)\n",
        "q17 = np.flipud(q17)\n",
        "q17 = np.fliplr(q17)\n",
        "p17 = q17"
      ]
    },
    {
      "cell_type": "code",
      "execution_count": 107,
      "metadata": {},
      "outputs": [
        {
          "data": {
            "text/plain": [
              "array([[15, 14, 13, 12],\n",
              "       [11, 10,  9,  8],\n",
              "       [ 7,  6,  5,  4],\n",
              "       [ 3,  2,  1,  0]])"
            ]
          },
          "execution_count": 107,
          "metadata": {},
          "output_type": "execute_result"
        }
      ],
      "source": [
        "p17"
      ]
    },
    {
      "cell_type": "markdown",
      "metadata": {
        "id": "QxXXYh0LbdI_"
      },
      "source": [
        "### Problem 18\n",
        "\n",
        "Write a function `p18` that takes in a size $n$ and returns a 1-dimensional array of length $n$ where the first element is $1$ and the $i+1$th element is the $i$th element plus $1/(i+1)$.\n",
        "Make sure to test your function on at least $n=1000000$."
      ]
    },
    {
      "cell_type": "code",
      "execution_count": 110,
      "metadata": {
        "id": "rWqrcW7vbj0H"
      },
      "outputs": [],
      "source": [
        "# YOUR CHANGES HERE\n",
        "\n",
        "def p18(n):\n",
        "    l = [1]\n",
        "    for i in range(1, n):\n",
        "        l.append(l[i - 1] + (1/(i + 1)))\n",
        "    return l"
      ]
    },
    {
      "cell_type": "code",
      "execution_count": 111,
      "metadata": {},
      "outputs": [
        {
          "data": {
            "text/plain": [
              "[1, 1.5]"
            ]
          },
          "execution_count": 111,
          "metadata": {},
          "output_type": "execute_result"
        }
      ],
      "source": [
        "# should return array with contents [1, 1.5]\n",
        "p18(2)"
      ]
    },
    {
      "cell_type": "code",
      "execution_count": 112,
      "metadata": {},
      "outputs": [
        {
          "data": {
            "text/plain": [
              "[1, 1.5, 1.8333333333333333, 2.083333333333333, 2.283333333333333]"
            ]
          },
          "execution_count": 112,
          "metadata": {},
          "output_type": "execute_result"
        }
      ],
      "source": [
        "p18(5)"
      ]
    },
    {
      "cell_type": "code",
      "execution_count": 113,
      "metadata": {},
      "outputs": [
        {
          "data": {
            "text/plain": [
              "[1,\n",
              " 1.5,\n",
              " 1.8333333333333333,\n",
              " 2.083333333333333,\n",
              " 2.283333333333333,\n",
              " 2.4499999999999997,\n",
              " 2.5928571428571425,\n",
              " 2.7178571428571425,\n",
              " 2.8289682539682537,\n",
              " 2.9289682539682538,\n",
              " 3.0198773448773446,\n",
              " 3.103210678210678,\n",
              " 3.180133755133755,\n",
              " 3.251562326562327,\n",
              " 3.3182289932289937,\n",
              " 3.3807289932289937,\n",
              " 3.439552522640758,\n",
              " 3.4951080781963135,\n",
              " 3.547739657143682,\n",
              " 3.597739657143682,\n",
              " 3.6453587047627294,\n",
              " 3.690813250217275,\n",
              " 3.73429151108684,\n",
              " 3.7759581777535067,\n",
              " 3.8159581777535068,\n",
              " 3.854419716215045,\n",
              " 3.8914567532520823,\n",
              " 3.927171038966368,\n",
              " 3.9616537975870574,\n",
              " 3.9949871309203906,\n",
              " 4.02724519543652,\n",
              " 4.05849519543652,\n",
              " 4.08879822573955,\n",
              " 4.118209990445433,\n",
              " 4.146781419016861,\n",
              " 4.174559196794639,\n",
              " 4.201586223821666,\n",
              " 4.22790201329535,\n",
              " 4.2535430389363755,\n",
              " 4.278543038936376,\n",
              " 4.302933282838815,\n",
              " 4.326742806648339,\n",
              " 4.349998620601827,\n",
              " 4.3727258933290996,\n",
              " 4.394948115551322,\n",
              " 4.416687245986104,\n",
              " 4.4379638417307845,\n",
              " 4.4587971750641175,\n",
              " 4.4792053383294235,\n",
              " 4.499205338329423,\n",
              " 4.518813181466678,\n",
              " 4.538043950697447,\n",
              " 4.556911875225749,\n",
              " 4.575430393744267,\n",
              " 4.593612211926086,\n",
              " 4.611469354783229,\n",
              " 4.6290132144323515,\n",
              " 4.646254593742697,\n",
              " 4.6632037462850695,\n",
              " 4.679870412951736,\n",
              " 4.696263855574687,\n",
              " 4.712392887832752,\n",
              " 4.7282659037057675,\n",
              " 4.7438909037057675,\n",
              " 4.759275519090383,\n",
              " 4.774427034241898,\n",
              " 4.789352407376227,\n",
              " 4.804058289729168,\n",
              " 4.818551043352357,\n",
              " 4.832836757638071,\n",
              " 4.846921264680325,\n",
              " 4.860810153569214,\n",
              " 4.8745087837062,\n",
              " 4.888022297219713,\n",
              " 4.901355630553047,\n",
              " 4.914513525289889,\n",
              " 4.927500538276902,\n",
              " 4.940321051097415,\n",
              " 4.9529792789455165,\n",
              " 4.965479278945517,\n",
              " 4.977824957957862,\n",
              " 4.9900200799090815,\n",
              " 5.002068272680166,\n",
              " 5.013973034584928,\n",
              " 5.025737740467281,\n",
              " 5.037365647444025,\n",
              " 5.048859900317588,\n",
              " 5.0602235366812245,\n",
              " 5.0714594917374045,\n",
              " 5.082570602848516,\n",
              " 5.0935596138375265,\n",
              " 5.104429179054918,\n",
              " 5.115181867226961,\n",
              " 5.125820165099301,\n",
              " 5.136346480888775,\n",
              " 5.146763147555442,\n",
              " 5.157072425905957,\n",
              " 5.1672765075386105,\n",
              " 5.177377517639621,\n",
              " 5.187377517639621,\n",
              " 5.1972785077386305,\n",
              " 5.207082429307258,\n",
              " 5.216791167171336,\n",
              " 5.226406551786721,\n",
              " 5.235930361310531,\n",
              " 5.245364323574681,\n",
              " 5.254710117967204,\n",
              " 5.263969377226464,\n",
              " 5.273143689153069,\n",
              " 5.282234598243978,\n",
              " 5.291243607252987,\n",
              " 5.300172178681558,\n",
              " 5.3090217362036825,\n",
              " 5.317793666028244,\n",
              " 5.3264893182021575,\n",
              " 5.33511000785733,\n",
              " 5.343657016404339,\n",
              " 5.3521315926755255,\n",
              " 5.360534954020063,\n",
              " 5.368868287353397,\n",
              " 5.377132750163314,\n",
              " 5.3853294714747895,\n",
              " 5.393459552775602,\n",
              " 5.401524068904634,\n",
              " 5.409524068904634,\n",
              " 5.417460576841142,\n",
              " 5.425334592589174,\n",
              " 5.433147092589174,\n",
              " 5.44089903057367,\n",
              " 5.448591338265977,\n",
              " 5.456224926052237,\n",
              " 5.463800683627995,\n",
              " 5.471319480620476,\n",
              " 5.47878216718764,\n",
              " 5.4861895745950475,\n",
              " 5.4935425157715185,\n",
              " 5.5008417858445116,\n",
              " 5.508088162656105,\n",
              " 5.515282407260422,\n",
              " 5.522425264403279,\n",
              " 5.529517462984839,\n",
              " 5.536559716505966,\n",
              " 5.543552723498973,\n",
              " 5.550497167943417,\n",
              " 5.557393719667555,\n",
              " 5.564243034736048,\n",
              " 5.571045755824484,\n",
              " 5.577802512581241,\n",
              " 5.584513921977214,\n",
              " 5.591180588643881,\n",
              " 5.597803105200172,\n",
              " 5.604382052568593,\n",
              " 5.6109180002810115,\n",
              " 5.617411506774518,\n",
              " 5.623863119677744,\n",
              " 5.630273376088001,\n",
              " 5.636642802839593,\n",
              " 5.642971916763644,\n",
              " 5.649261224939744,\n",
              " 5.655511224939744,\n",
              " 5.661722405063967,\n",
              " 5.66789524457014,\n",
              " 5.674030213895294,\n",
              " 5.680127774870903,\n",
              " 5.686188380931509,\n",
              " 5.692212477317051,\n",
              " 5.698200501269147,\n",
              " 5.704152882221528,\n",
              " 5.710070041984842,\n",
              " 5.715952394926019,\n",
              " 5.721800348142393,\n",
              " 5.727614301630765,\n",
              " 5.733394648451574,\n",
              " 5.739141774888355,\n",
              " 5.744856060602641,\n",
              " 5.750537878784459,\n",
              " 5.756187596298584,\n",
              " 5.761805573826673,\n",
              " 5.767392166005444,\n",
              " 5.772947721561,\n",
              " 5.778472583439453,\n",
              " 5.7839670889339585,\n",
              " 5.789431569808276,\n",
              " 5.794866352416971,\n",
              " 5.800271757822377,\n",
              " 5.805648101908399,\n",
              " 5.810995695491286,\n",
              " 5.816314844427456,\n",
              " 5.821605849718462,\n",
              " 5.826869007613198,\n",
              " 5.832104609707439,\n",
              " 5.837312943040772,\n",
              " 5.8424942901910315,\n",
              " 5.847648929366289,\n",
              " 5.852777134494494,\n",
              " 5.857879175310821,\n",
              " 5.8629553174428,\n",
              " 5.868005822493306,\n",
              " 5.873030948121446,\n",
              " 5.878030948121446,\n",
              " 5.883006072499556,\n",
              " 5.88795656754906,\n",
              " 5.8928826759234445,\n",
              " 5.897784636707758,\n",
              " 5.902662685488246,\n",
              " 5.907517054420285,\n",
              " 5.912347972294681,\n",
              " 5.917155664602373,\n",
              " 5.921940353597589,\n",
              " 5.9267022583594935,\n",
              " 5.931441594852385,\n",
              " 5.93615857598446,\n",
              " 5.940853411665211,\n",
              " 5.9455263088614725,\n",
              " 5.95017747165217,\n",
              " 5.9548071012818,\n",
              " 5.959415396212675,\n",
              " 5.964002552175978,\n",
              " 5.96856876222164,\n",
              " 5.973114216767095,\n",
              " 5.977639103644923,\n",
              " 5.9821436081494275,\n",
              " 5.986627913082163,\n",
              " 5.991092198796449,\n",
              " 5.995536643240893,\n",
              " 5.999961422001955,\n",
              " 6.004366708345567,\n",
              " 6.008752673257848,\n",
              " 6.013119485484922,\n",
              " 6.017467311571878,\n",
              " 6.0217963159008825,\n",
              " 6.026106660728469,\n",
              " 6.030398506222031,\n",
              " 6.034672010495536,\n",
              " 6.038927329644472,\n",
              " 6.043164617780065,\n",
              " 6.0473840270627655,\n",
              " 6.051585707735034,\n",
              " 6.055769808153444,\n",
              " 6.059936474820111,\n",
              " 6.064085852413472,\n",
              " 6.06821808381843,\n",
              " 6.072333310155879,\n",
              " 6.076431670811617,\n",
              " 6.080513303464678,\n",
              " 6.0845783441150845,\n",
              " 6.088626927111036,\n",
              " 6.092659185175552,\n",
              " 6.09667524943258,\n",
              " 6.100675249432579,\n",
              " 6.104659313177599,\n",
              " 6.108627567145853,\n",
              " 6.112580136315814,\n",
              " 6.11651714418983,\n",
              " 6.120438712817281,\n",
              " 6.124344962817281,\n",
              " 6.128236013400938,\n",
              " 6.1321119823931864,\n",
              " 6.13597298625419,\n",
              " 6.139819140100344,\n",
              " 6.143650557724865,\n",
              " 6.147467351617994,\n",
              " 6.151269632986815,\n",
              " 6.155057511774694,\n",
              " 6.1588310966803546,\n",
              " 6.1625904951765955,\n",
              " 6.166335813528655,\n",
              " 6.170067156812237,\n",
              " 6.173784628931196,\n",
              " 6.1774883326349,\n",
              " 6.181178369535269,\n",
              " 6.184854840123505,\n",
              " 6.188517843786508,\n",
              " 6.192167478823005,\n",
              " 6.195803842459369,\n",
              " 6.1994270308651656,\n",
              " 6.203037139168415,\n",
              " 6.206634261470573,\n",
              " 6.210218490861254,\n",
              " 6.213789919432683,\n",
              " 6.217348638293893,\n",
              " 6.220894737584673,\n",
              " 6.2244283064892665,\n",
              " 6.2279494332498295,\n",
              " 6.231458205179654,\n",
              " 6.234954708676157,\n",
              " 6.238439029233648,\n",
              " 6.24191125145587,\n",
              " 6.245371459068327,\n",
              " 6.248819734930396,\n",
              " 6.252256161047234,\n",
              " 6.255680818581481,\n",
              " 6.2590937878647575,\n",
              " 6.262495148408975,\n",
              " 6.26588497891745,\n",
              " 6.269263357295828,\n",
              " 6.2726303606628315,\n",
              " 6.275986065360818,\n",
              " 6.279330546966169,\n",
              " 6.282663880299502,\n",
              " 6.285986139435715,\n",
              " 6.28929739771386,\n",
              " 6.292597727746863,\n",
              " 6.295887201431074,\n",
              " 6.299165889955664,\n",
              " 6.302433863811873,\n",
              " 6.305691192802101,\n",
              " 6.308937946048854,\n",
              " 6.312174192003546,\n",
              " 6.315399998455159,\n",
              " 6.31861543253876,\n",
              " 6.321820560743888,\n",
              " 6.3250154489228025,\n",
              " 6.328200162298598,\n",
              " 6.3313747654732015,\n",
              " 6.334539322435226,\n",
              " 6.3376938965677185,\n",
              " 6.340838550655769,\n",
              " 6.343973346894013,\n",
              " 6.347098346894013,\n",
              " 6.350213611691521,\n",
              " 6.353319201753632,\n",
              " 6.356415176985831,\n",
              " 6.359501596738917,\n",
              " 6.36257851981584,\n",
              " 6.365646004478417,\n",
              " 6.368704108453952,\n",
              " 6.3717528889417565,\n",
              " 6.374792402619568,\n",
              " 6.377822705649871,\n",
              " 6.380843853686125,\n",
              " 6.383855901878896,\n",
              " 6.3868589048818984,\n",
              " 6.389852916857946,\n",
              " 6.392837991484812,\n",
              " 6.395814181961002,\n",
              " 6.398781541011448,\n",
              " 6.401740120893105,\n",
              " 6.40468997340048,\n",
              " 6.407631149871068,\n",
              " 6.410563701190716,\n",
              " 6.413487677798903,\n",
              " 6.416403129693947,\n",
              " 6.419310106438133,\n",
              " 6.422208657162771,\n",
              " 6.425098830573176,\n",
              " 6.427980674953579,\n",
              " 6.43085423817197,\n",
              " 6.433719567684864,\n",
              " 6.436576710542007,\n",
              " 6.43942571339101,\n",
              " 6.442266622481919,\n",
              " 6.445099483671721,\n",
              " 6.4479243424287835,\n",
              " 6.450741243837235,\n",
              " 6.4535502326012795,\n",
              " 6.456351353049459,\n",
              " 6.459144649138844,\n",
              " 6.4619301644591784,\n",
              " 6.464707942236957,\n",
              " 6.4674780253394495,\n",
              " 6.470240456278676,\n",
              " 6.472995277215315,\n",
              " 6.4757425299625675,\n",
              " 6.478482255989965,\n",
              " 6.481214496427123,\n",
              " 6.48393929206745,\n",
              " 6.486656683371797,\n",
              " 6.489366710472068,\n",
              " 6.492069413174771,\n",
              " 6.494764830964528,\n",
              " 6.497453003007539,\n",
              " 6.500133968154993,\n",
              " 6.502807764946437,\n",
              " 6.505474431613103,\n",
              " 6.508134006081188,\n",
              " 6.510786525975087,\n",
              " 6.513432028620589,\n",
              " 6.51607055104803,\n",
              " 6.518702129995399,\n",
              " 6.5213268019114095,\n",
              " 6.5239446029585295,\n",
              " 6.5265555690159704,\n",
              " 6.529159735682637,\n",
              " 6.53175713828004,\n",
              " 6.534347811855169,\n",
              " 6.536931791183335,\n",
              " 6.539509110770964,\n",
              " 6.542079804858368,\n",
              " 6.54464390742247,\n",
              " 6.547201452179504,\n",
              " 6.5497524725876675,\n",
              " 6.552297001849754,\n",
              " 6.554835072915744,\n",
              " 6.557366718485365,\n",
              " 6.559891971010617,\n",
              " 6.5624108626982744,\n",
              " 6.564923425512345,\n",
              " 6.567429691176505,\n",
              " 6.5699296911765055,\n",
              " 6.57242345676254,\n",
              " 6.574911018951595,\n",
              " 6.577392408529759,\n",
              " 6.579867656054511,\n",
              " 6.582336791856981,\n",
              " 6.584799846044173,\n",
              " 6.587256848501175,\n",
              " 6.589707828893332,\n",
              " 6.592152816668394,\n",
              " 6.594591841058637,\n",
              " 6.597024931082968,\n",
              " 6.599452115548988,\n",
              " 6.601873423055041,\n",
              " 6.604288881992239,\n",
              " 6.6066985205464555,\n",
              " 6.609102366700301,\n",
              " 6.611500448235073,\n",
              " 6.613892792732681,\n",
              " 6.61627942757755,\n",
              " 6.618660379958502,\n",
              " 6.6210356768706164,\n",
              " 6.623405345117062,\n",
              " 6.625769411310915,\n",
              " 6.628127901876953,\n",
              " 6.630480843053423,\n",
              " 6.632828260893799,\n",
              " 6.635170181268506,\n",
              " 6.637506629866637,\n",
              " 6.639837632197639,\n",
              " 6.642163213592988,\n",
              " 6.644483399207837,\n",
              " 6.646798214022652,\n",
              " 6.649107682844822,\n",
              " 6.65141183031026,\n",
              " 6.653710680884973,\n",
              " 6.656004258866624,\n",
              " 6.658292588386075,\n",
              " 6.660575693408906,\n",
              " 6.662853597736924,\n",
              " 6.665126325009651,\n",
              " 6.667393898705797,\n",
              " 6.669656342144711,\n",
              " 6.671913678487826,\n",
              " 6.674165930740078,\n",
              " 6.676413121751314,\n",
              " 6.6786552742176815,\n",
              " 6.680892410683006,\n",
              " 6.683124553540149,\n",
              " 6.685351725032354,\n",
              " 6.6875739472545765,\n",
              " 6.689791242154798,\n",
              " 6.692003631535329,\n",
              " 6.694211137054093,\n",
              " 6.696413780225899,\n",
              " 6.698611582423701,\n",
              " 6.700804564879841,\n",
              " 6.702992748687281,\n",
              " 6.705176154800818,\n",
              " 6.707354804038291,\n",
              " 6.709528717081769,\n",
              " 6.711697914478732,\n",
              " 6.713862416643234,\n",
              " 6.716022243857057,\n",
              " 6.71817741627085,\n",
              " 6.720327953905258,\n",
              " 6.722473876652039,\n",
              " 6.724615204275165,\n",
              " 6.726751956411917,\n",
              " 6.728884152573964,\n",
              " 6.731011812148432,\n",
              " 6.733134954398962,\n",
              " 6.735253598466759,\n",
              " 6.737367763371622,\n",
              " 6.739477468012972,\n",
              " 6.741582731170867,\n",
              " 6.743683571507002,\n",
              " 6.745780007565702,\n",
              " 6.747872057774907,\n",
              " 6.7499597404471405,\n",
              " 6.752043073780474,\n",
              " 6.754122075859476,\n",
              " 6.756196764656156,\n",
              " 6.758267158030898,\n",
              " 6.7603332737333774,\n",
              " 6.7623951294034805,\n",
              " 6.764452742572205,\n",
              " 6.766506130662554,\n",
              " 6.768555310990423,\n",
              " 6.770600300765474,\n",
              " 6.772641117092005,\n",
              " 6.774677776969805,\n",
              " 6.776710297295009,\n",
              " 6.778738694860931,\n",
              " 6.780762986358907,\n",
              " 6.782783188379109,\n",
              " 6.784799317411367,\n",
              " 6.786811389845974,\n",
              " 6.788819421974488,\n",
              " 6.79082342999052,\n",
              " 6.79282342999052,\n",
              " 6.794819437974552,\n",
              " 6.7968114698470625,\n",
              " 6.798799541417639,\n",
              " 6.800783668401767,\n",
              " 6.802763866421569,\n",
              " 6.804740151006549,\n",
              " 6.80671253759432,\n",
              " 6.808681041531329,\n",
              " 6.810645678073568,\n",
              " 6.8126064623872935,\n",
              " 6.81456340954972,\n",
              " 6.81651653454972,\n",
              " 6.8184658522885115,\n",
              " 6.82041137758034,\n",
              " 6.822353125153156,\n",
              " 6.8242911096492795,\n",
              " 6.826225345626069,\n",
              " 6.828155847556571,\n",
              " 6.830082629830175,\n",
              " 6.832005706753252,\n",
              " 6.833925092549797,\n",
              " 6.835840801362058,\n",
              " 6.837752847251159,\n",
              " 6.839661244197724,\n",
              " 6.841566006102486,\n",
              " 6.843467146786897,\n",
              " 6.845364679993728,\n",
              " 6.8472586193876674,\n",
              " 6.84914897855591,\n",
              " 6.85103577100874,\n",
              " 6.8529190101801145,\n",
              " 6.854798709428235,\n",
              " 6.856674882036115,\n",
              " 6.858547541212145,\n",
              " 6.860416700090649,\n",
              " 6.86228237173244,\n",
              " 6.864144569125363,\n",
              " 6.866003305184843,\n",
              " 6.867858592754416,\n",
              " 6.869710444606268,\n",
              " 6.871558873441757,\n",
              " 6.873403891891942,\n",
              " 6.875245512518093,\n",
              " 6.877083747812211,\n",
              " 6.878918610197532,\n",
              " 6.880750112029034,\n",
              " 6.882578265593933,\n",
              " 6.884403083112181,\n",
              " 6.886224576736954,\n",
              " 6.888042758555136,\n",
              " 6.889857640587803,\n",
              " 6.891669234790702,\n",
              " 6.8934775530547165,\n",
              " 6.895282607206341,\n",
              " 6.897084409008143,\n",
              " 6.898882970159223,\n",
              " 6.900678302295668,\n",
              " 6.902470416991008,\n",
              " 6.904259325756661,\n",
              " 6.906045040042375,\n",
              " 6.9078275712366715,\n",
              " 6.909606930667277,\n",
              " 6.911383129601558,\n",
              " 6.913156179246948,\n",
              " 6.914926090751373,\n",
              " 6.91669287520367,\n",
              " 6.918456543634005,\n",
              " 6.920217107014287,\n",
              " 6.921974576258576,\n",
              " 6.923728962223488,\n",
              " 6.925480275708602,\n",
              " 6.927228527456854,\n",
              " 6.928973728154934,\n",
              " 6.93071588843368,\n",
              " 6.932455018868462,\n",
              " 6.934191129979573,\n",
              " 6.9359242322326065,\n",
              " 6.937654336038835,\n",
              " 6.9393814517555885,\n",
              " 6.941105589686623,\n",
              " 6.942826760082492,\n",
              " 6.9445449731409115,\n",
              " 6.94626023900712,\n",
              " 6.947972567774244,\n",
              " 6.949681969483645,\n",
              " 6.951388454125284,\n",
              " 6.953092031638061,\n",
              " 6.954792711910169,\n",
              " 6.956490504779439,\n",
              " 6.958185420033677,\n",
              " 6.959877467411003,\n",
              " 6.961566656600192,\n",
              " 6.9632529972410016,\n",
              " 6.964936498924503,\n",
              " 6.966617171193411,\n",
              " 6.968295023542404,\n",
              " 6.969970065418451,\n",
              " 6.971642306221127,\n",
              " 6.97331175530293,\n",
              " 6.974978421969597,\n",
              " 6.9766423154804125,\n",
              " 6.978303445048518,\n",
              " 6.979961819841222,\n",
              " 6.981617448980295,\n",
              " 6.983270341542278,\n",
              " 6.98492050655878,\n",
              " 6.9865679530167695,\n",
              " 6.988212689858875,\n",
              " 6.98985472598367,\n",
              " 6.991494070245965,\n",
              " 6.993130731457094,\n",
              " 6.994764718385198,\n",
              " 6.996396039755508,\n",
              " 6.998024704250622,\n",
              " 6.999650720510785,\n",
              " 7.001274097134162,\n",
              " 7.002894842677112,\n",
              " 7.004512965654458,\n",
              " 7.006128474539756,\n",
              " 7.007741377765563,\n",
              " 7.009351683723695,\n",
              " 7.010959400765496,\n",
              " 7.012564537202093,\n",
              " 7.014167101304657,\n",
              " 7.0157671013046565,\n",
              " 7.017364545394114,\n",
              " 7.018959441725852,\n",
              " 7.02055179841375,\n",
              " 7.022141623532987,\n",
              " 7.023728925120289,\n",
              " 7.025313711174172,\n",
              " 7.026895989655184,\n",
              " 7.028475768486148,\n",
              " 7.030053055552394,\n",
              " 7.0316278587020005,\n",
              " 7.033200185746026,\n",
              " 7.0347700444587415,\n",
              " 7.036337442577864,\n",
              " 7.037902387804781,\n",
              " 7.039464887804781,\n",
              " 7.0410249502072775,\n",
              " 7.042582582606031,\n",
              " 7.044137792559375,\n",
              " 7.045690587590431,\n",
              " 7.04724097518733,\n",
              " 7.048788962803429,\n",
              " 7.050334557857525,\n",
              " 7.0518777677340685,\n",
              " 7.053418599783375,\n",
              " 7.054957061321836,\n",
              " 7.0564931596321285,\n",
              " 7.058026901963417,\n",
              " 7.059558295531564,\n",
              " 7.061087347519331,\n",
              " 7.062614065076583,\n",
              " 7.064138455320486,\n",
              " 7.065660525335707,\n",
              " 7.067180282174612,\n",
              " 7.068697732857465,\n",
              " 7.070212884372617,\n",
              " 7.071725743676701,\n",
              " 7.073236317694828,\n",
              " 7.074744613320771,\n",
              " 7.076250637417156,\n",
              " 7.077754396815653,\n",
              " 7.079255898317155,\n",
              " 7.080755148691967,\n",
              " 7.082252154679991,\n",
              " 7.083746922990903,\n",
              " 7.085239460304336,\n",
              " 7.086729773270059,\n",
              " 7.088217868508154,\n",
              " 7.089703752609194,\n",
              " 7.091187432134416,\n",
              " 7.092668913615897,\n",
              " 7.094148203556726,\n",
              " 7.095625308431172,\n",
              " 7.097100234684859,\n",
              " 7.098572988734933,\n",
              " 7.1000435769702275,\n",
              " 7.101512005751432,\n",
              " 7.102978281411256,\n",
              " 7.104442410254594,\n",
              " 7.105904398558688,\n",
              " 7.107364252573286,\n",
              " 7.108821978520808,\n",
              " 7.1102775825965,\n",
              " 7.111731070968593,\n",
              " 7.113182449778462,\n",
              " 7.1146317251407805,\n",
              " 7.116078903143674,\n",
              " 7.117523989848877,\n",
              " 7.118966991291878,\n",
              " 7.12040791348208,\n",
              " 7.121846762402944,\n",
              " 7.123283544012139,\n",
              " 7.124718264241694,\n",
              " 7.126150928998141,\n",
              " 7.127581544162662,\n",
              " 7.1290101155912335,\n",
              " 7.130436649114771,\n",
              " 7.131861150539272,\n",
              " 7.133283625645958,\n",
              " 7.134704080191412,\n",
              " 7.136122519907724,\n",
              " 7.137538950502625,\n",
              " 7.138953377659627,\n",
              " 7.140365807038158,\n",
              " 7.141776244273701,\n",
              " 7.1431846949779265,\n",
              " 7.144591164738826,\n",
              " 7.145995659120849,\n",
              " 7.147398183665028,\n",
              " 7.148798743889118,\n",
              " 7.150197345287719,\n",
              " 7.151593993332411,\n",
              " 7.152988693471881,\n",
              " 7.154381451132049,\n",
              " 7.155772271716193,\n",
              " 7.1571611606050825,\n",
              " 7.158548123157094,\n",
              " 7.159933164708341,\n",
              " 7.1613162905727945,\n",
              " 7.162697506042408,\n",
              " 7.164076816387235,\n",
              " 7.165454226855554,\n",
              " 7.166829742673986,\n",
              " 7.168203369047613,\n",
              " 7.169575111160096,\n",
              " 7.1709449741737945,\n",
              " 7.172312963229882,\n",
              " 7.173679083448461,\n",
              " 7.1750433399286795,\n",
              " 7.176405737748843,\n",
              " 7.17776628196653,\n",
              " 7.179124977618704,\n",
              " 7.180481829721825,\n",
              " 7.18183684327196,\n",
              " 7.183190023244896,\n",
              " 7.184541374596248,\n",
              " 7.185890902261565,\n",
              " 7.1872386111564435,\n",
              " 7.188584506176632,\n",
              " 7.189928592198137,\n",
              " 7.191270874077332,\n",
              " 7.192611356651058,\n",
              " 7.193950044736734,\n",
              " 7.195286943132456,\n",
              " 7.196622056617102,\n",
              " 7.197955389950435,\n",
              " 7.199286947873205,\n",
              " 7.200616735107247,\n",
              " 7.201944756355587,\n",
              " 7.203271016302537,\n",
              " 7.204595519613795,\n",
              " 7.205918270936547,\n",
              " 7.207239274899559,\n",
              " 7.208558536113279,\n",
              " 7.2098760591699325,\n",
              " 7.211191848643617,\n",
              " 7.212505909090398,\n",
              " 7.213818245048403,\n",
              " 7.215128861037917,\n",
              " 7.216437761561478,\n",
              " 7.2177449511039615,\n",
              " 7.219050434132682,\n",
              " 7.22035421509748,\n",
              " 7.221656298430813,\n",
              " 7.222956688547848,\n",
              " 7.224255389846549,\n",
              " 7.225552406707768,\n",
              " 7.226847743495333,\n",
              " 7.228141404556135,\n",
              " 7.229433394220218,\n",
              " 7.2307237168008625,\n",
              " 7.232012376594677,\n",
              " 7.2332993778816785,\n",
              " 7.23458472492538,\n",
              " 7.235868421972877,\n",
              " 7.237150473254928,\n",
              " 7.238430882986043,\n",
              " 7.2397096553645595,\n",
              " 7.240986794572733,\n",
              " 7.242262304776815,\n",
              " 7.243536190127133,\n",
              " 7.244808454758177,\n",
              " 7.246079102788673,\n",
              " 7.247348138321668,\n",
              " 7.248615565444608,\n",
              " 7.249881388229418,\n",
              " 7.2511456107325785,\n",
              " 7.252408236995205,\n",
              " 7.253669271043124,\n",
              " 7.254928716886953,\n",
              " 7.256186578522173,\n",
              " 7.257442859929208,\n",
              " 7.258697565073499,\n",
              " 7.2599506979055795,\n",
              " 7.261202262361149,\n",
              " 7.2624522623611485,\n",
              " 7.263700701811835,\n",
              " 7.264947584604853,\n",
              " 7.266192914617306,\n",
              " 7.267436695711833,\n",
              " 7.268678931736678,\n",
              " 7.269919626525759,\n",
              " 7.271158783898746,\n",
              " 7.272396407661122,\n",
              " 7.273632501604262,\n",
              " 7.274867069505497,\n",
              " 7.276100115128185,\n",
              " 7.277331642221781,\n",
              " 7.278561654521904,\n",
              " 7.279790155750406,\n",
              " 7.281017149615437,\n",
              " 7.282242639811515,\n",
              " 7.283466630019594,\n",
              " 7.284689123907124,\n",
              " 7.285910125128125,\n",
              " 7.287129637323247,\n",
              " 7.288347664119836,\n",
              " 7.289564209132002,\n",
              " 7.290779275960677,\n",
              " 7.291992868193687,\n",
              " 7.293204989405808,\n",
              " 7.2944156431588345,\n",
              " 7.29562483300164,\n",
              " 7.2968325624702395,\n",
              " 7.298038835087851,\n",
              " 7.29924365436496,\n",
              " 7.300447023799377,\n",
              " 7.3016489468763,\n",
              " 7.302849427068377,\n",
              " 7.304048467835764,\n",
              " 7.305246072626183,\n",
              " 7.306442244874987,\n",
              " 7.307636988005213,\n",
              " 7.308830305427648,\n",
              " 7.310022200540878,\n",
              " 7.311212676731355,\n",
              " 7.312401737373447,\n",
              " 7.313589385829504,\n",
              " 7.314775625449907,\n",
              " 7.315960459573129,\n",
              " 7.3171438915257925,\n",
              " 7.3183259246227195,\n",
              " 7.3195065621669935,\n",
              " 7.320685807450013,\n",
              " 7.321863663751544,\n",
              " 7.323040134339779,\n",
              " 7.324215222471389,\n",
              " 7.3253889313915765,\n",
              " 7.326561264334132,\n",
              " 7.327732224521486,\n",
              " 7.328901815164761,\n",
              " 7.330070039463826,\n",
              " 7.33123690060735,\n",
              " 7.3324024017728515,\n",
              " 7.333566546126751,\n",
              " 7.3347293368244255,\n",
              " 7.335890777010256,\n",
              " 7.337050869817681,\n",
              " 7.338209618369245,\n",
              " 7.339367025776652,\n",
              " 7.340523095140814,\n",
              " 7.341677829551899,\n",
              " 7.3428312320893845,\n",
              " 7.343983305822103,\n",
              " 7.3451340538082945,\n",
              " 7.346283479095651,\n",
              " 7.3474315847213685,\n",
              " 7.348578373712194,\n",
              " 7.349723849084474,\n",
              " 7.350868013844199,\n",
              " 7.352010870987056,\n",
              " 7.3531524234984715,\n",
              " 7.35429267435366,\n",
              " 7.355431626517669,\n",
              " 7.356569282945428,\n",
              " 7.357705646581792,\n",
              " 7.358840720361587,\n",
              " 7.359974507209659,\n",
              " 7.361107010040916,\n",
              " 7.362238231760373,\n",
              " 7.363368175263198,\n",
              " 7.364496843434756,\n",
              " 7.365624239150652,\n",
              " 7.366750365276777,\n",
              " 7.367875224669353,\n",
              " 7.368998820174971,\n",
              " 7.370121154630639,\n",
              " 7.371242230863823,\n",
              " 7.37236205169249,\n",
              " 7.373480619925152,\n",
              " 7.374597938360906,\n",
              " 7.375714009789477,\n",
              " 7.376828836991261,\n",
              " 7.377942422737363,\n",
              " 7.379054769789644,\n",
              " 7.380165880900755,\n",
              " 7.381275758814184,\n",
              " 7.382384406264295,\n",
              " 7.383491825976366,\n",
              " 7.3845980206666315,\n",
              " 7.385702993042322,\n",
              " 7.386806745801704,\n",
              " 7.387909281634118,\n",
              " 7.389010603220021,\n",
              " 7.390110713231023,\n",
              " 7.391209614329924,\n",
              " 7.392307309170758,\n",
              " 7.393403800398828,\n",
              " 7.394499090650745,\n",
              " 7.395593182554466,\n",
              " 7.396686078729329,\n",
              " 7.397777781786098,\n",
              " 7.398868294326992,\n",
              " 7.399957618945729,\n",
              " 7.401045758227557,\n",
              " 7.402132714749296,\n",
              " 7.403218491079372,\n",
              " 7.404303089777853,\n",
              " 7.405386513396488,\n",
              " 7.406468764478739,\n",
              " 7.407549845559821,\n",
              " 7.4086297591667325,\n",
              " 7.409708507818297,\n",
              " 7.410786094025194,\n",
              " 7.411862520289994,\n",
              " 7.412937789107199,\n",
              " 7.414011902963267,\n",
              " 7.415084864336658,\n",
              " 7.416156675697858,\n",
              " 7.417227339509421,\n",
              " 7.4182968582259985,\n",
              " 7.419365234294375,\n",
              " 7.4204324701535,\n",
              " 7.421498568234523,\n",
              " 7.4225635309608275,\n",
              " 7.423627360748061,\n",
              " 7.424690060004172,\n",
              " 7.425751631129438,\n",
              " 7.4268120765165,\n",
              " 7.427871398550398,\n",
              " 7.4289295996085984,\n",
              " 7.429986682061029,\n",
              " 7.431042648270111,\n",
              " 7.432097500590786,\n",
              " 7.433151241370554,\n",
              " 7.434203872949501,\n",
              " 7.435255397660332,\n",
              " 7.4363058178284,\n",
              " 7.437355135771736,\n",
              " 7.438403353801086,\n",
              " 7.439450474219934,\n",
              " 7.440496499324537,\n",
              " 7.441541431403952,\n",
              " 7.442585272740069,\n",
              " 7.443628025607639,\n",
              " 7.444669692274306,\n",
              " 7.445710275000632,\n",
              " 7.446749776040133,\n",
              " 7.447788197639302,\n",
              " 7.448825542037643,\n",
              " 7.449861811467694,\n",
              " 7.4508970081550645,\n",
              " 7.451931134318456,\n",
              " 7.452964192169696,\n",
              " 7.453996183913762,\n",
              " 7.455027111748813,\n",
              " 7.456056977866218,\n",
              " 7.457085784450579,\n",
              " 7.458113533679767,\n",
              " 7.459140227724942,\n",
              " 7.4601658687505825,\n",
              " 7.461190458914517,\n",
              " 7.462214000367946,\n",
              " 7.4632364952554715,\n",
              " 7.464257945715124,\n",
              " 7.465278353878389,\n",
              " 7.466297721870235,\n",
              " 7.467316051809135,\n",
              " 7.468333345807101,\n",
              " 7.469349605969702,\n",
              " 7.470364834396098,\n",
              " 7.471379033179059,\n",
              " 7.472392204404996,\n",
              " 7.473404350153984,\n",
              " 7.474415472499788,\n",
              " 7.475425573509889,\n",
              " 7.47643465524551,\n",
              " 7.477442719761639,\n",
              " 7.478449769107057,\n",
              " 7.479455805324361,\n",
              " 7.480460830449989,\n",
              " 7.481464846514245,\n",
              " 7.482467855541326,\n",
              " 7.483469859549342,\n",
              " 7.484470860550343,\n",
              " 7.485470860550343,\n",
              " ...]"
            ]
          },
          "execution_count": 113,
          "metadata": {},
          "output_type": "execute_result"
        }
      ],
      "source": [
        "# this will be very slow if your function repeatedly builds fresh arrays.\n",
        "p18(1000000)"
      ]
    },
    {
      "cell_type": "markdown",
      "metadata": {},
      "source": [
        "### Problem 19\n",
        "\n",
        "Write a function `p19` that takes in 3 values $a$, $b$, and $c$ and an array $X$ and returns $a X^2 + bX + c$.\n",
        "`p19` should return an array in the same shape as the input $X$."
      ]
    },
    {
      "cell_type": "code",
      "execution_count": null,
      "metadata": {},
      "outputs": [],
      "source": [
        "# YOUR CHANGES HERE\n",
        "\n",
        "def p19(a, b, c, X):\n",
        "    ...\n"
      ]
    },
    {
      "cell_type": "code",
      "execution_count": null,
      "metadata": {},
      "outputs": [],
      "source": [
        "p19(1, 0, 0, np.arange(0, 10))"
      ]
    },
    {
      "cell_type": "code",
      "execution_count": null,
      "metadata": {},
      "outputs": [],
      "source": [
        "p19(0, 0, 1, np.arange(0, 10))"
      ]
    },
    {
      "cell_type": "code",
      "execution_count": null,
      "metadata": {},
      "outputs": [],
      "source": [
        "p19(1, 2, 3, np.arange(0, 10))"
      ]
    },
    {
      "cell_type": "markdown",
      "metadata": {
        "id": "5WO97foQaM9Z"
      },
      "source": [
        "### Problem 20\n",
        "\n",
        "Write a function `p20` taking in input array $X$ and return $X X^T$ where $X^T$ denotes matrix transposition, and $X X^T$ denotes combining $X$ and $X^T$ with matrix multiplication.\n"
      ]
    },
    {
      "cell_type": "code",
      "execution_count": 35,
      "metadata": {
        "id": "cENE8brYaTSa"
      },
      "outputs": [],
      "source": [
        "# YOUR CHANGES HERE\n",
        "\n",
        "def p20(X):\n",
        "    ..."
      ]
    },
    {
      "cell_type": "code",
      "execution_count": null,
      "metadata": {},
      "outputs": [],
      "source": [
        "# should return\n",
        "# [[1, 2, 3, 4, 5],\n",
        "#  [2, 4, 6, 8, 10],\n",
        "#  [3, 6, 9, 12, 15],\n",
        "#  [4, 8, 12, 16, 20],\n",
        "#  [5, 10, 15, 20, 25]]\n",
        "\n",
        "p20(np.array([[1], [2], [3], [4], [5]]))\n"
      ]
    },
    {
      "cell_type": "code",
      "execution_count": null,
      "metadata": {},
      "outputs": [],
      "source": [
        "# should return\n",
        "# [[ 2,  3,  4,  5,  6],\n",
        "#  [ 3,  5,  7,  9, 11],\n",
        "#  [ 4,  7, 10, 13, 16],\n",
        "#  [ 5,  9, 13, 17, 21],\n",
        "#  [ 6, 11, 16, 21, 26]]\n",
        "\n",
        "p20(np.array([[1, 1], [2, 1], [3, 1], [4, 1], [5, 1]]))"
      ]
    }
  ],
  "metadata": {
    "colab": {
      "toc_visible": false
    },
    "kernelspec": {
      "display_name": "Python 3",
      "name": "python3"
    },
    "language_info": {
      "codemirror_mode": {
        "name": "ipython",
        "version": 3
      },
      "file_extension": ".py",
      "mimetype": "text/x-python",
      "name": "python",
      "nbconvert_exporter": "python",
      "pygments_lexer": "ipython3",
      "version": "3.9.6"
    }
  },
  "nbformat": 4,
  "nbformat_minor": 0
}
